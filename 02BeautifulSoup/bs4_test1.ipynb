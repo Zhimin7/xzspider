{
 "cells": [
  {
   "cell_type": "markdown",
   "id": "4466e468",
   "metadata": {},
   "source": [
    "# 快速开始"
   ]
  },
  {
   "cell_type": "markdown",
   "id": "03612993",
   "metadata": {},
   "source": [
    "下面的这段HTML代码，在接下来的例子中会经常用到。\n",
    "\n",
    "\n",
    "英文状态下的三引号里面的内容指的也是字符串，它可以按原格式输出。\n",
    "\n",
    "意思就是我是怎么样输入的，他就怎么样输出。"
   ]
  },
  {
   "cell_type": "code",
   "execution_count": 1,
   "id": "97027688",
   "metadata": {},
   "outputs": [],
   "source": [
    "html_doc = \"\"\"\n",
    "<html><head><title>The Dormouse's story</title></head>\n",
    "<body>\n",
    "<p class=\"title\"><b>The Dormouse's story</b></p>\n",
    "\n",
    "<p class=\"story\">Once upon a time there were three little sisters; and their names were\n",
    "<a href=\"http://example.com/elsie\" class=\"sister\" id=\"link1\">Elsie</a>,\n",
    "<a href=\"http://example.com/lacie\" class=\"sister\" id=\"link2\">Lacie</a> and\n",
    "<a href=\"http://example.com/tillie\" class=\"sister\" id=\"link3\">Tillie</a>;\n",
    "and they lived at the bottom of a well.</p>\n",
    "\n",
    "<p class=\"story\">...</p>\n",
    "\"\"\""
   ]
  },
  {
   "cell_type": "code",
   "execution_count": 2,
   "id": "5a74b301",
   "metadata": {},
   "outputs": [
    {
     "name": "stdout",
     "output_type": "stream",
     "text": [
      "\n",
      "<html><head><title>The Dormouse's story</title></head>\n",
      "<body>\n",
      "<p class=\"title\"><b>The Dormouse's story</b></p>\n",
      "\n",
      "<p class=\"story\">Once upon a time there were three little sisters; and their names were\n",
      "<a href=\"http://example.com/elsie\" class=\"sister\" id=\"link1\">Elsie</a>,\n",
      "<a href=\"http://example.com/lacie\" class=\"sister\" id=\"link2\">Lacie</a> and\n",
      "<a href=\"http://example.com/tillie\" class=\"sister\" id=\"link3\">Tillie</a>;\n",
      "and they lived at the bottom of a well.</p>\n",
      "\n",
      "<p class=\"story\">...</p>\n",
      "\n"
     ]
    }
   ],
   "source": [
    "print(html_doc)"
   ]
  },
  {
   "cell_type": "markdown",
   "id": "083fec13",
   "metadata": {},
   "source": [
    "接下来，我们要使用BeautifulSoup解析下列的这段代码，得到一个BeautifulSoup对象，并能按照标准的缩进结构格式输出。"
   ]
  },
  {
   "cell_type": "code",
   "execution_count": 3,
   "id": "215bf60c",
   "metadata": {},
   "outputs": [],
   "source": [
    "from bs4 import BeautifulSoup\n",
    "soup = BeautifulSoup(html_doc)"
   ]
  },
  {
   "cell_type": "code",
   "execution_count": 4,
   "id": "e95b39d7",
   "metadata": {},
   "outputs": [
    {
     "name": "stdout",
     "output_type": "stream",
     "text": [
      "<html>\n",
      " <head>\n",
      "  <title>\n",
      "   The Dormouse's story\n",
      "  </title>\n",
      " </head>\n",
      " <body>\n",
      "  <p class=\"title\">\n",
      "   <b>\n",
      "    The Dormouse's story\n",
      "   </b>\n",
      "  </p>\n",
      "  <p class=\"story\">\n",
      "   Once upon a time there were three little sisters; and their names were\n",
      "   <a class=\"sister\" href=\"http://example.com/elsie\" id=\"link1\">\n",
      "    Elsie\n",
      "   </a>\n",
      "   ,\n",
      "   <a class=\"sister\" href=\"http://example.com/lacie\" id=\"link2\">\n",
      "    Lacie\n",
      "   </a>\n",
      "   and\n",
      "   <a class=\"sister\" href=\"http://example.com/tillie\" id=\"link3\">\n",
      "    Tillie\n",
      "   </a>\n",
      "   ;\n",
      "and they lived at the bottom of a well.\n",
      "  </p>\n",
      "  <p class=\"story\">\n",
      "   ...\n",
      "  </p>\n",
      " </body>\n",
      "</html>\n"
     ]
    }
   ],
   "source": [
    "print(soup.prettify())"
   ]
  },
  {
   "cell_type": "markdown",
   "id": "aea07f9a",
   "metadata": {},
   "source": [
    "下面介绍几个浏览数据化结构的方法"
   ]
  },
  {
   "cell_type": "code",
   "execution_count": 5,
   "id": "74ea18cb",
   "metadata": {},
   "outputs": [
    {
     "data": {
      "text/plain": [
       "<title>The Dormouse's story</title>"
      ]
     },
     "execution_count": 5,
     "metadata": {},
     "output_type": "execute_result"
    }
   ],
   "source": [
    "soup.title"
   ]
  },
  {
   "cell_type": "code",
   "execution_count": 6,
   "id": "883ffdd6",
   "metadata": {},
   "outputs": [
    {
     "data": {
      "text/plain": [
       "'title'"
      ]
     },
     "execution_count": 6,
     "metadata": {},
     "output_type": "execute_result"
    }
   ],
   "source": [
    "soup.title.name"
   ]
  },
  {
   "cell_type": "code",
   "execution_count": 7,
   "id": "c9e0fef0",
   "metadata": {},
   "outputs": [
    {
     "data": {
      "text/plain": [
       "\"The Dormouse's story\""
      ]
     },
     "execution_count": 7,
     "metadata": {},
     "output_type": "execute_result"
    }
   ],
   "source": [
    "soup.title.string"
   ]
  },
  {
   "cell_type": "code",
   "execution_count": 8,
   "id": "5701a7c9",
   "metadata": {},
   "outputs": [
    {
     "data": {
      "text/plain": [
       "'head'"
      ]
     },
     "execution_count": 8,
     "metadata": {},
     "output_type": "execute_result"
    }
   ],
   "source": [
    "soup.title.parent.name"
   ]
  },
  {
   "cell_type": "code",
   "execution_count": 9,
   "id": "416a7749",
   "metadata": {},
   "outputs": [
    {
     "data": {
      "text/plain": [
       "<p class=\"title\"><b>The Dormouse's story</b></p>"
      ]
     },
     "execution_count": 9,
     "metadata": {},
     "output_type": "execute_result"
    }
   ],
   "source": [
    "soup.p"
   ]
  },
  {
   "cell_type": "code",
   "execution_count": 10,
   "id": "1b9072f8",
   "metadata": {},
   "outputs": [
    {
     "data": {
      "text/plain": [
       "['title']"
      ]
     },
     "execution_count": 10,
     "metadata": {},
     "output_type": "execute_result"
    }
   ],
   "source": [
    "soup.p['class']"
   ]
  },
  {
   "cell_type": "code",
   "execution_count": 11,
   "id": "2e453e44",
   "metadata": {},
   "outputs": [
    {
     "data": {
      "text/plain": [
       "<a class=\"sister\" href=\"http://example.com/elsie\" id=\"link1\">Elsie</a>"
      ]
     },
     "execution_count": 11,
     "metadata": {},
     "output_type": "execute_result"
    }
   ],
   "source": [
    "soup.a"
   ]
  },
  {
   "cell_type": "code",
   "execution_count": 12,
   "id": "352b433d",
   "metadata": {},
   "outputs": [
    {
     "data": {
      "text/plain": [
       "[<a class=\"sister\" href=\"http://example.com/elsie\" id=\"link1\">Elsie</a>,\n",
       " <a class=\"sister\" href=\"http://example.com/lacie\" id=\"link2\">Lacie</a>,\n",
       " <a class=\"sister\" href=\"http://example.com/tillie\" id=\"link3\">Tillie</a>]"
      ]
     },
     "execution_count": 12,
     "metadata": {},
     "output_type": "execute_result"
    }
   ],
   "source": [
    "soup.find_all('a')"
   ]
  },
  {
   "cell_type": "markdown",
   "id": "9b07c1e7",
   "metadata": {},
   "source": [
    "从文档中找到所有的 a 标签的链接"
   ]
  },
  {
   "cell_type": "code",
   "execution_count": 13,
   "id": "4057691e",
   "metadata": {},
   "outputs": [
    {
     "name": "stdout",
     "output_type": "stream",
     "text": [
      "http://example.com/elsie\n",
      "http://example.com/lacie\n",
      "http://example.com/tillie\n"
     ]
    }
   ],
   "source": [
    "for href in soup.find_all('a'):\n",
    "    print(href.get('href'))"
   ]
  },
  {
   "cell_type": "markdown",
   "id": "dd169d5b",
   "metadata": {},
   "source": [
    "获取文中的所有文字内容"
   ]
  },
  {
   "cell_type": "code",
   "execution_count": 14,
   "id": "df5d9204",
   "metadata": {},
   "outputs": [
    {
     "name": "stdout",
     "output_type": "stream",
     "text": [
      "The Dormouse's story\n",
      "\n",
      "The Dormouse's story\n",
      "Once upon a time there were three little sisters; and their names were\n",
      "Elsie,\n",
      "Lacie and\n",
      "Tillie;\n",
      "and they lived at the bottom of a well.\n",
      "...\n",
      "\n"
     ]
    }
   ],
   "source": [
    "print(soup.get_text())"
   ]
  },
  {
   "cell_type": "markdown",
   "id": "654cf895",
   "metadata": {},
   "source": [
    "# 安装BeautifulSoup"
   ]
  },
  {
   "cell_type": "markdown",
   "id": "3bf60dc3",
   "metadata": {},
   "source": [
    "pip install BeautifulSoup"
   ]
  },
  {
   "cell_type": "markdown",
   "id": "0c68c282",
   "metadata": {},
   "source": [
    "# 安装解析器"
   ]
  },
  {
   "cell_type": "markdown",
   "id": "56f738ea",
   "metadata": {},
   "source": [
    "pip install lxml"
   ]
  },
  {
   "cell_type": "markdown",
   "id": "df59d7e0",
   "metadata": {},
   "source": [
    "# 如何使用"
   ]
  },
  {
   "cell_type": "markdown",
   "id": "22bec537",
   "metadata": {},
   "source": [
    "在BeautifulSoup中可以传入两种类型的数据，一个是字符串，一个是文件对象。"
   ]
  },
  {
   "cell_type": "code",
   "execution_count": 15,
   "id": "91577d64",
   "metadata": {},
   "outputs": [],
   "source": [
    "from bs4 import BeautifulSoup"
   ]
  },
  {
   "cell_type": "code",
   "execution_count": 16,
   "id": "dcdbc5ea",
   "metadata": {},
   "outputs": [],
   "source": [
    "soup = BeautifulSoup(open('test.html'))\n",
    "\n",
    "soup = BeautifulSoup('<html>data</html>')"
   ]
  },
  {
   "cell_type": "markdown",
   "id": "92135297",
   "metadata": {},
   "source": [
    "首先文档被转换为Unicode，并且HTML实例都被转换为了Unicode编码,并做格式化。"
   ]
  },
  {
   "cell_type": "code",
   "execution_count": 17,
   "id": "2f2b4ef0",
   "metadata": {},
   "outputs": [
    {
     "data": {
      "text/plain": [
       "<html><body><p>hello world</p></body></html>"
      ]
     },
     "execution_count": 17,
     "metadata": {},
     "output_type": "execute_result"
    }
   ],
   "source": [
    "BeautifulSoup('hello world')"
   ]
  },
  {
   "cell_type": "markdown",
   "id": "3f5903b1",
   "metadata": {},
   "source": [
    "# 对象的种类"
   ]
  },
  {
   "cell_type": "markdown",
   "id": "3981977e",
   "metadata": {},
   "source": [
    "BeautifulSoup 将复杂的HTML文档转换为更加复杂的树形结构，每个节点都是python对象，所有的对象都可以归纳为4类：\n",
    "\n",
    "Tag , NavigableString , BeautifulSoup , Comment ."
   ]
  },
  {
   "cell_type": "markdown",
   "id": "80a1ff11",
   "metadata": {},
   "source": [
    "## Tag"
   ]
  },
  {
   "cell_type": "markdown",
   "id": "2f1713e2",
   "metadata": {},
   "source": [
    "tag对象与XML或HTML原生文档中的tag相同。"
   ]
  },
  {
   "cell_type": "code",
   "execution_count": 18,
   "id": "3c18b944",
   "metadata": {},
   "outputs": [],
   "source": [
    "soup = BeautifulSoup('<b class=\"boldest\">Extremely bold</b>')\n",
    "tag = soup.b"
   ]
  },
  {
   "cell_type": "code",
   "execution_count": 19,
   "id": "395c33b0",
   "metadata": {},
   "outputs": [
    {
     "name": "stdout",
     "output_type": "stream",
     "text": [
      "<b class=\"boldest\">Extremely bold</b>\n",
      "<class 'bs4.element.Tag'>\n"
     ]
    }
   ],
   "source": [
    "print(tag)\n",
    "print(type(tag))"
   ]
  },
  {
   "cell_type": "markdown",
   "id": "39dc698d",
   "metadata": {},
   "source": [
    "Tag的方法与属性是比较多的，现在介绍一下Tag中最重要的属性：name和attributes"
   ]
  },
  {
   "cell_type": "markdown",
   "id": "76b340bb",
   "metadata": {},
   "source": [
    "### name"
   ]
  },
  {
   "cell_type": "markdown",
   "id": "681ef3ad",
   "metadata": {},
   "source": [
    "每个tag都有自己的名字，通过.name来获取"
   ]
  },
  {
   "cell_type": "code",
   "execution_count": 20,
   "id": "51867d62",
   "metadata": {},
   "outputs": [
    {
     "name": "stdout",
     "output_type": "stream",
     "text": [
      "b\n"
     ]
    }
   ],
   "source": [
    "print(tag.name)"
   ]
  },
  {
   "cell_type": "markdown",
   "id": "248488f0",
   "metadata": {},
   "source": [
    "如果，我们改变了tag的name属性，那么将会影响到当前BeautifulSoup对象生成的HTML文档"
   ]
  },
  {
   "cell_type": "code",
   "execution_count": 21,
   "id": "c90305fb",
   "metadata": {},
   "outputs": [
    {
     "name": "stdout",
     "output_type": "stream",
     "text": [
      "<blockquote class=\"boldest\">Extremely bold</blockquote>\n"
     ]
    }
   ],
   "source": [
    "tag.name = 'blockquote'\n",
    "print(tag)"
   ]
  },
  {
   "cell_type": "markdown",
   "id": "1419127a",
   "metadata": {},
   "source": [
    "### attirbutes"
   ]
  },
  {
   "cell_type": "markdown",
   "id": "f8048ab3",
   "metadata": {},
   "source": [
    "一个tag中可能会有很多属性，<b class=\"boldest\"> 有一个class为属性为boldest，tag属性的操作方法与字典相同。"
   ]
  },
  {
   "cell_type": "code",
   "execution_count": 22,
   "id": "fdb59db7",
   "metadata": {},
   "outputs": [
    {
     "data": {
      "text/plain": [
       "['boldest']"
      ]
     },
     "execution_count": 22,
     "metadata": {},
     "output_type": "execute_result"
    }
   ],
   "source": [
    "tag['class']"
   ]
  },
  {
   "cell_type": "code",
   "execution_count": 23,
   "id": "571e61e1",
   "metadata": {},
   "outputs": [
    {
     "data": {
      "text/plain": [
       "['boldest']"
      ]
     },
     "execution_count": 23,
     "metadata": {},
     "output_type": "execute_result"
    }
   ],
   "source": [
    "tag.get('class')"
   ]
  },
  {
   "cell_type": "code",
   "execution_count": 24,
   "id": "2def98a3",
   "metadata": {},
   "outputs": [
    {
     "data": {
      "text/plain": [
       "{'class': ['boldest']}"
      ]
     },
     "execution_count": 24,
     "metadata": {},
     "output_type": "execute_result"
    }
   ],
   "source": [
    "tag.attrs"
   ]
  },
  {
   "cell_type": "markdown",
   "id": "4f95db83",
   "metadata": {},
   "source": [
    "tag属性可以添加、删除与修改和字典的操作是一样的"
   ]
  },
  {
   "cell_type": "code",
   "execution_count": 25,
   "id": "b70c435d",
   "metadata": {},
   "outputs": [
    {
     "data": {
      "text/plain": [
       "<blockquote class=\"verybold\" id=\"verygood\">Extremely bold</blockquote>"
      ]
     },
     "execution_count": 25,
     "metadata": {},
     "output_type": "execute_result"
    }
   ],
   "source": [
    "tag['class'] = 'verybold'\n",
    "tag['id'] = 'verygood'\n",
    "tag"
   ]
  },
  {
   "cell_type": "code",
   "execution_count": 26,
   "id": "43af68a0",
   "metadata": {},
   "outputs": [],
   "source": [
    "del tag['class']"
   ]
  },
  {
   "cell_type": "code",
   "execution_count": 27,
   "id": "3664f893",
   "metadata": {},
   "outputs": [],
   "source": [
    "# tag['class']"
   ]
  },
  {
   "cell_type": "code",
   "execution_count": 28,
   "id": "372e9f8f",
   "metadata": {},
   "outputs": [
    {
     "name": "stdout",
     "output_type": "stream",
     "text": [
      "None\n"
     ]
    }
   ],
   "source": [
    "print(tag.get('class'))"
   ]
  },
  {
   "cell_type": "markdown",
   "id": "421a0d14",
   "metadata": {},
   "source": [
    "### 多值属性"
   ]
  },
  {
   "cell_type": "markdown",
   "id": "4670b956",
   "metadata": {},
   "source": [
    "最常见的多值属性是class (一个tag可以有多个css的class)，这些多值属性返回的类型是list"
   ]
  },
  {
   "cell_type": "code",
   "execution_count": 29,
   "id": "969c7a01",
   "metadata": {},
   "outputs": [
    {
     "data": {
      "text/plain": [
       "['body', 'strikeout']"
      ]
     },
     "execution_count": 29,
     "metadata": {},
     "output_type": "execute_result"
    }
   ],
   "source": [
    "css_soup = BeautifulSoup('<p class=\"body strikeout\"></p>')\n",
    "css_soup.p['class']"
   ]
  },
  {
   "cell_type": "code",
   "execution_count": 30,
   "id": "df56e065",
   "metadata": {},
   "outputs": [
    {
     "data": {
      "text/plain": [
       "['body']"
      ]
     },
     "execution_count": 30,
     "metadata": {},
     "output_type": "execute_result"
    }
   ],
   "source": [
    "css_soup = BeautifulSoup('<p class=\"body\"></p>')\n",
    "css_soup.p['class']"
   ]
  },
  {
   "cell_type": "markdown",
   "id": "7d4a73d7",
   "metadata": {},
   "source": [
    "如果某个属性，看起来好像有多个值，例如id值，但是在HTML版本中，没有将其定义为多值属性，\n",
    "\n",
    "那么Beautiful Soup会将其作为字符串返回。"
   ]
  },
  {
   "cell_type": "code",
   "execution_count": 31,
   "id": "0600ef47",
   "metadata": {},
   "outputs": [
    {
     "data": {
      "text/plain": [
       "'my id'"
      ]
     },
     "execution_count": 31,
     "metadata": {},
     "output_type": "execute_result"
    }
   ],
   "source": [
    "id_soup = BeautifulSoup('<p id=\"my id\"></p>')\n",
    "id_soup.p['id']"
   ]
  },
  {
   "cell_type": "markdown",
   "id": "10a3d9f5",
   "metadata": {},
   "source": [
    "将tag转换为字符串时，多值属性会合并成一个值"
   ]
  },
  {
   "cell_type": "code",
   "execution_count": 32,
   "id": "bd8ec2d8",
   "metadata": {},
   "outputs": [
    {
     "data": {
      "text/plain": [
       "['index']"
      ]
     },
     "execution_count": 32,
     "metadata": {},
     "output_type": "execute_result"
    }
   ],
   "source": [
    "rel_soup = BeautifulSoup('<p>Back to the <a rel=\"index\">homepage</a></p>')\n",
    "rel_soup.a['rel']"
   ]
  },
  {
   "cell_type": "code",
   "execution_count": 33,
   "id": "be0fbce2",
   "metadata": {},
   "outputs": [
    {
     "name": "stdout",
     "output_type": "stream",
     "text": [
      "<p>Back to the <a rel=\"index contents\">homepage</a></p>\n"
     ]
    }
   ],
   "source": [
    "rel_soup.a['rel'] = ['index', 'contents']\n",
    "print(rel_soup.p)"
   ]
  },
  {
   "cell_type": "markdown",
   "id": "8a5ffc66",
   "metadata": {},
   "source": [
    "如果转换的文档是XML格式，那么tag中不包含多值属性"
   ]
  },
  {
   "cell_type": "code",
   "execution_count": 34,
   "id": "ba78b5c4",
   "metadata": {},
   "outputs": [
    {
     "data": {
      "text/plain": [
       "'body strikeout'"
      ]
     },
     "execution_count": 34,
     "metadata": {},
     "output_type": "execute_result"
    }
   ],
   "source": [
    "xml_soup = BeautifulSoup('<p class=\"body strikeout\"></p>', 'xml')\n",
    "xml_soup.p['class']"
   ]
  },
  {
   "cell_type": "markdown",
   "id": "ecb91c06",
   "metadata": {},
   "source": [
    "## 可遍历的字符串"
   ]
  },
  {
   "cell_type": "markdown",
   "id": "e8435705",
   "metadata": {},
   "source": [
    "字符串常常被包含在tag内，Beautiful Soup用NavigableString类来包装tag中的字符串"
   ]
  },
  {
   "cell_type": "code",
   "execution_count": 35,
   "id": "4c227635",
   "metadata": {},
   "outputs": [
    {
     "data": {
      "text/plain": [
       "'Extremely bold'"
      ]
     },
     "execution_count": 35,
     "metadata": {},
     "output_type": "execute_result"
    }
   ],
   "source": [
    "tag.string"
   ]
  },
  {
   "cell_type": "code",
   "execution_count": 36,
   "id": "03afe056",
   "metadata": {},
   "outputs": [
    {
     "data": {
      "text/plain": [
       "bs4.element.NavigableString"
      ]
     },
     "execution_count": 36,
     "metadata": {},
     "output_type": "execute_result"
    }
   ],
   "source": [
    "type(tag.string)"
   ]
  },
  {
   "cell_type": "markdown",
   "id": "d97b53ae",
   "metadata": {},
   "source": [
    "tag中的字符串不能被编辑，但是可以使用replace_with(）方法，替换成其他字符"
   ]
  },
  {
   "cell_type": "code",
   "execution_count": 37,
   "id": "e5a2a0fe",
   "metadata": {},
   "outputs": [
    {
     "data": {
      "text/plain": [
       "'Extremely bold'"
      ]
     },
     "execution_count": 37,
     "metadata": {},
     "output_type": "execute_result"
    }
   ],
   "source": [
    "tag.string.replace_with('No longer bold')"
   ]
  },
  {
   "cell_type": "code",
   "execution_count": 38,
   "id": "7a38021c",
   "metadata": {},
   "outputs": [
    {
     "data": {
      "text/plain": [
       "<blockquote id=\"verygood\">No longer bold</blockquote>"
      ]
     },
     "execution_count": 38,
     "metadata": {},
     "output_type": "execute_result"
    }
   ],
   "source": [
    "tag"
   ]
  },
  {
   "cell_type": "markdown",
   "id": "da0b791f",
   "metadata": {},
   "source": [
    "## 注释及其特殊字符串"
   ]
  },
  {
   "cell_type": "markdown",
   "id": "89a10d08",
   "metadata": {},
   "source": [
    "Tag , NavigableString , BeautifulSoup 几乎覆盖了html和xml中的所有内容,\n",
    "\n",
    "但是还有一些特殊对象.容易让人担心的内容是文档的注释部分:"
   ]
  },
  {
   "cell_type": "code",
   "execution_count": 39,
   "id": "b7e0ca94",
   "metadata": {},
   "outputs": [
    {
     "data": {
      "text/plain": [
       "bs4.element.Comment"
      ]
     },
     "execution_count": 39,
     "metadata": {},
     "output_type": "execute_result"
    }
   ],
   "source": [
    "markup = '<b><!--Hey, buddy. Want to buy a used parser?--></b>'\n",
    "soup = BeautifulSoup(markup)\n",
    "comment = soup.b.string\n",
    "type(comment)"
   ]
  },
  {
   "cell_type": "code",
   "execution_count": 40,
   "id": "cb96d4b0",
   "metadata": {},
   "outputs": [
    {
     "data": {
      "text/plain": [
       "'Hey, buddy. Want to buy a used parser?'"
      ]
     },
     "execution_count": 40,
     "metadata": {},
     "output_type": "execute_result"
    }
   ],
   "source": [
    "comment"
   ]
  },
  {
   "cell_type": "markdown",
   "id": "953a3675",
   "metadata": {},
   "source": [
    "当他出现在HTML文档中时，Comment对象会使用特殊的格式输出"
   ]
  },
  {
   "cell_type": "code",
   "execution_count": 41,
   "id": "d7757bb4",
   "metadata": {},
   "outputs": [
    {
     "name": "stdout",
     "output_type": "stream",
     "text": [
      "<b>\n",
      " <!--Hey, buddy. Want to buy a used parser?-->\n",
      "</b>\n"
     ]
    }
   ],
   "source": [
    "print(soup.b.prettify())"
   ]
  },
  {
   "cell_type": "markdown",
   "id": "ac0ac2f7",
   "metadata": {},
   "source": [
    "# 遍历文档树"
   ]
  },
  {
   "cell_type": "markdown",
   "id": "8b24a631",
   "metadata": {},
   "source": [
    "我们依然取下列文档作为例子"
   ]
  },
  {
   "cell_type": "code",
   "execution_count": 42,
   "id": "ac176ab0",
   "metadata": {},
   "outputs": [],
   "source": [
    "html_doc = \"\"\"\n",
    "<html><head><title>The Dormouse's story</title></head>\n",
    "\n",
    "<p class=\"title\"><b>The Dormouse's story</b></p>\n",
    "\n",
    "<p class=\"story\">Once upon a time there were three little sisters; and their names were\n",
    "<a href=\"http://example.com/elsie\" class=\"sister\" id=\"link1\">Elsie</a>,\n",
    "<a href=\"http://example.com/lacie\" class=\"sister\" id=\"link2\">Lacie</a> and\n",
    "<a href=\"http://example.com/tillie\" class=\"sister\" id=\"link3\">Tillie</a>;\n",
    "and they lived at the bottom of a well.</p>\n",
    "\n",
    "<p class=\"story\">...</p>\n",
    "\"\"\"\n",
    "\n",
    "from bs4 import BeautifulSoup\n",
    "soup = BeautifulSoup(html_doc)"
   ]
  },
  {
   "cell_type": "markdown",
   "id": "69a70b99",
   "metadata": {},
   "source": [
    "## 子节点"
   ]
  },
  {
   "cell_type": "markdown",
   "id": "692dcf6f",
   "metadata": {},
   "source": [
    "一个tag可能包含多个字符串或者是其他tag,这些都是这个Tag的子节点，Beautiful Soup提供了许多操作和遍历子节点的属性。\n",
    "\n",
    "注意Beautiful Soup中字符串节点不支持这些属性，因为字符串没有子节点"
   ]
  },
  {
   "cell_type": "markdown",
   "id": "023fccc3",
   "metadata": {},
   "source": [
    "## Tag的名字"
   ]
  },
  {
   "cell_type": "markdown",
   "id": "2d14977b",
   "metadata": {},
   "source": [
    "操作文档树最简单的方法，就是告诉他你想获取的tag的name。如果想获取head标签，只需要soup.head"
   ]
  },
  {
   "cell_type": "code",
   "execution_count": 43,
   "id": "6421e17a",
   "metadata": {},
   "outputs": [
    {
     "data": {
      "text/plain": [
       "<head><title>The Dormouse's story</title></head>"
      ]
     },
     "execution_count": 43,
     "metadata": {},
     "output_type": "execute_result"
    }
   ],
   "source": [
    "soup.head"
   ]
  },
  {
   "cell_type": "code",
   "execution_count": 44,
   "id": "09e15309",
   "metadata": {},
   "outputs": [
    {
     "data": {
      "text/plain": [
       "<title>The Dormouse's story</title>"
      ]
     },
     "execution_count": 44,
     "metadata": {},
     "output_type": "execute_result"
    }
   ],
   "source": [
    "soup.title"
   ]
  },
  {
   "cell_type": "markdown",
   "id": "5d30a3c0",
   "metadata": {},
   "source": [
    "这是获取tag中的一个小方法，可以在tag中多次调用这个方法，下面的代码可以获取到body标签中的第一个b标签"
   ]
  },
  {
   "cell_type": "code",
   "execution_count": 45,
   "id": "da7375e2",
   "metadata": {},
   "outputs": [
    {
     "data": {
      "text/plain": [
       "<b>The Dormouse's story</b>"
      ]
     },
     "execution_count": 45,
     "metadata": {},
     "output_type": "execute_result"
    }
   ],
   "source": [
    "soup.body.b"
   ]
  },
  {
   "cell_type": "code",
   "execution_count": 46,
   "id": "4c25491c",
   "metadata": {},
   "outputs": [
    {
     "data": {
      "text/plain": [
       "<b>The Dormouse's story</b>"
      ]
     },
     "execution_count": 46,
     "metadata": {},
     "output_type": "execute_result"
    }
   ],
   "source": [
    "soup.b"
   ]
  },
  {
   "cell_type": "markdown",
   "id": "5f31d352",
   "metadata": {},
   "source": [
    "通过点属性的方式，只能获取到当前名字的第一个tag"
   ]
  },
  {
   "cell_type": "code",
   "execution_count": 47,
   "id": "44bf5bf2",
   "metadata": {},
   "outputs": [
    {
     "data": {
      "text/plain": [
       "<a class=\"sister\" href=\"http://example.com/elsie\" id=\"link1\">Elsie</a>"
      ]
     },
     "execution_count": 47,
     "metadata": {},
     "output_type": "execute_result"
    }
   ],
   "source": [
    "soup.a"
   ]
  },
  {
   "cell_type": "markdown",
   "id": "e120bcf8",
   "metadata": {},
   "source": [
    "如果，你想要获取到所有的tag，那么可以使用find_all()方法,它所返回的内容是一个列表"
   ]
  },
  {
   "cell_type": "code",
   "execution_count": 48,
   "id": "34870089",
   "metadata": {},
   "outputs": [
    {
     "data": {
      "text/plain": [
       "[<a class=\"sister\" href=\"http://example.com/elsie\" id=\"link1\">Elsie</a>,\n",
       " <a class=\"sister\" href=\"http://example.com/lacie\" id=\"link2\">Lacie</a>,\n",
       " <a class=\"sister\" href=\"http://example.com/tillie\" id=\"link3\">Tillie</a>]"
      ]
     },
     "execution_count": 48,
     "metadata": {},
     "output_type": "execute_result"
    }
   ],
   "source": [
    "soup.find_all('a')"
   ]
  },
  {
   "cell_type": "markdown",
   "id": "ef91fa23",
   "metadata": {},
   "source": [
    "# .contents和.children"
   ]
  },
  {
   "cell_type": "markdown",
   "id": "6cace570",
   "metadata": {},
   "source": [
    "tag中的.contents属性可以将tag的子节点以列表的方式输出"
   ]
  },
  {
   "cell_type": "code",
   "execution_count": 49,
   "id": "cab52c49",
   "metadata": {},
   "outputs": [
    {
     "data": {
      "text/plain": [
       "<head><title>The Dormouse's story</title></head>"
      ]
     },
     "execution_count": 49,
     "metadata": {},
     "output_type": "execute_result"
    }
   ],
   "source": [
    "head_tag = soup.head\n",
    "head_tag"
   ]
  },
  {
   "cell_type": "code",
   "execution_count": 50,
   "id": "17330206",
   "metadata": {},
   "outputs": [
    {
     "data": {
      "text/plain": [
       "[<title>The Dormouse's story</title>]"
      ]
     },
     "execution_count": 50,
     "metadata": {},
     "output_type": "execute_result"
    }
   ],
   "source": [
    "head_tag.contents"
   ]
  },
  {
   "cell_type": "code",
   "execution_count": 51,
   "id": "bfc6e1b4",
   "metadata": {},
   "outputs": [
    {
     "data": {
      "text/plain": [
       "<title>The Dormouse's story</title>"
      ]
     },
     "execution_count": 51,
     "metadata": {},
     "output_type": "execute_result"
    }
   ],
   "source": [
    "title_tag = head_tag.contents[0]\n",
    "title_tag"
   ]
  },
  {
   "cell_type": "code",
   "execution_count": 52,
   "id": "e87e3230",
   "metadata": {},
   "outputs": [
    {
     "data": {
      "text/plain": [
       "[\"The Dormouse's story\"]"
      ]
     },
     "execution_count": 52,
     "metadata": {},
     "output_type": "execute_result"
    }
   ],
   "source": [
    "title_tag.contents"
   ]
  },
  {
   "cell_type": "markdown",
   "id": "94a2a13f",
   "metadata": {},
   "source": [
    "Beautiful Soup对象本身包含一个子节点，也就是说HTML标签，也就是Beautiful Soup对象的子节点"
   ]
  },
  {
   "cell_type": "code",
   "execution_count": 53,
   "id": "f7722f63",
   "metadata": {},
   "outputs": [
    {
     "data": {
      "text/plain": [
       "1"
      ]
     },
     "execution_count": 53,
     "metadata": {},
     "output_type": "execute_result"
    }
   ],
   "source": [
    "len(soup.contents)"
   ]
  },
  {
   "cell_type": "code",
   "execution_count": 54,
   "id": "24275f68",
   "metadata": {},
   "outputs": [
    {
     "data": {
      "text/plain": [
       "'html'"
      ]
     },
     "execution_count": 54,
     "metadata": {},
     "output_type": "execute_result"
    }
   ],
   "source": [
    "soup.contents[0].name"
   ]
  },
  {
   "cell_type": "markdown",
   "id": "4f843ef8",
   "metadata": {},
   "source": [
    "## 过滤器"
   ]
  },
  {
   "cell_type": "markdown",
   "id": "ec4f9d0d",
   "metadata": {},
   "source": [
    "## 字符串"
   ]
  },
  {
   "cell_type": "markdown",
   "id": "8f9e165a",
   "metadata": {},
   "source": [
    "最简单的过滤器是字符串，在搜索方法中传入一个字符串参数，例如我现在要寻找文档中的所有b标签，这个其实是name参数"
   ]
  },
  {
   "cell_type": "code",
   "execution_count": 55,
   "id": "eea32c89",
   "metadata": {},
   "outputs": [
    {
     "data": {
      "text/plain": [
       "[<b>The Dormouse's story</b>]"
      ]
     },
     "execution_count": 55,
     "metadata": {},
     "output_type": "execute_result"
    }
   ],
   "source": [
    "soup.find_all('b')"
   ]
  },
  {
   "cell_type": "markdown",
   "id": "9b77a912",
   "metadata": {},
   "source": [
    "## keyword参数"
   ]
  },
  {
   "cell_type": "markdown",
   "id": "9d8a3982",
   "metadata": {},
   "source": [
    "如果指定了名字的参数不是搜索内置的参数名，搜索时会将该参数当作指定名字的tag属性来搜索。如果包含了一个名字为id的参数，那么\n",
    "\n",
    "Beautiful Soup会搜索每个tag的id属性"
   ]
  },
  {
   "cell_type": "code",
   "execution_count": 56,
   "id": "7d804153",
   "metadata": {},
   "outputs": [
    {
     "data": {
      "text/plain": [
       "[<a class=\"sister\" href=\"http://example.com/lacie\" id=\"link2\">Lacie</a>]"
      ]
     },
     "execution_count": 56,
     "metadata": {},
     "output_type": "execute_result"
    }
   ],
   "source": [
    "soup.find_all(id='link2')"
   ]
  },
  {
   "cell_type": "markdown",
   "id": "710e4b4d",
   "metadata": {},
   "source": [
    "## 按CSS搜索"
   ]
  },
  {
   "cell_type": "markdown",
   "id": "5b0fe6d1",
   "metadata": {},
   "source": [
    "按照css类名搜索tag功能非常实用，但是css类名的关键字class是python的保留字，因此使用class会导致错误，但是Beautiful Soup可以通过class_参数实现\n",
    "\n",
    "指定类名的tag"
   ]
  },
  {
   "cell_type": "code",
   "execution_count": 57,
   "id": "774ce133",
   "metadata": {},
   "outputs": [
    {
     "data": {
      "text/plain": [
       "[<a class=\"sister\" href=\"http://example.com/elsie\" id=\"link1\">Elsie</a>,\n",
       " <a class=\"sister\" href=\"http://example.com/lacie\" id=\"link2\">Lacie</a>,\n",
       " <a class=\"sister\" href=\"http://example.com/tillie\" id=\"link3\">Tillie</a>]"
      ]
     },
     "execution_count": 57,
     "metadata": {},
     "output_type": "execute_result"
    }
   ],
   "source": [
    "soup.find_all('a', class_='sister')"
   ]
  },
  {
   "cell_type": "markdown",
   "id": "a8f08bb6",
   "metadata": {},
   "source": [
    "tag的class是一个多值属性，按照CSS类名所搜tag时，可以分别搜索tag中的每个css类名"
   ]
  },
  {
   "cell_type": "code",
   "execution_count": 58,
   "id": "eaba9e5d",
   "metadata": {},
   "outputs": [
    {
     "data": {
      "text/plain": [
       "[<p class=\"body strikeout\"></p>]"
      ]
     },
     "execution_count": 58,
     "metadata": {},
     "output_type": "execute_result"
    }
   ],
   "source": [
    "css_soup = BeautifulSoup('<p class=\"body strikeout\"></p>')\n",
    "css_soup.find_all('p', class_='strikeout')"
   ]
  },
  {
   "cell_type": "code",
   "execution_count": 59,
   "id": "d12b707f",
   "metadata": {},
   "outputs": [
    {
     "data": {
      "text/plain": [
       "[<p class=\"body strikeout\"></p>]"
      ]
     },
     "execution_count": 59,
     "metadata": {},
     "output_type": "execute_result"
    }
   ],
   "source": [
    "css_soup.find_all('p', class_='body')"
   ]
  },
  {
   "cell_type": "markdown",
   "id": "7b59057c",
   "metadata": {},
   "source": [
    "当然，搜索class属性时，也可以通过css值完全匹配"
   ]
  },
  {
   "cell_type": "code",
   "execution_count": 60,
   "id": "33b1f850",
   "metadata": {},
   "outputs": [
    {
     "data": {
      "text/plain": [
       "[<p class=\"body strikeout\"></p>]"
      ]
     },
     "execution_count": 60,
     "metadata": {},
     "output_type": "execute_result"
    }
   ],
   "source": [
    "css_soup.find_all('p', class_='body strikeout')"
   ]
  },
  {
   "cell_type": "markdown",
   "id": "b80940d8",
   "metadata": {},
   "source": [
    "完全匹配class的值时，如果CSS类名的顺序与实际不符合，将会搜索不到结果"
   ]
  },
  {
   "cell_type": "code",
   "execution_count": 61,
   "id": "674b68ff",
   "metadata": {},
   "outputs": [
    {
     "data": {
      "text/plain": [
       "[<a class=\"sister\" href=\"http://example.com/elsie\" id=\"link1\">Elsie</a>,\n",
       " <a class=\"sister\" href=\"http://example.com/lacie\" id=\"link2\">Lacie</a>,\n",
       " <a class=\"sister\" href=\"http://example.com/tillie\" id=\"link3\">Tillie</a>]"
      ]
     },
     "execution_count": 61,
     "metadata": {},
     "output_type": "execute_result"
    }
   ],
   "source": [
    "soup.find_all('a', attrs={'class': 'sister'})"
   ]
  },
  {
   "cell_type": "markdown",
   "id": "d3b99caf",
   "metadata": {},
   "source": [
    "# CSS选择器"
   ]
  },
  {
   "cell_type": "markdown",
   "id": "39a0029e",
   "metadata": {},
   "source": [
    "Beautiful Soup支持大部分的css选择器，Tag或者是Beautiful Soup对象的select()方法中传入字符串参数，即可使用CSS选择器语法找到Tag"
   ]
  },
  {
   "cell_type": "code",
   "execution_count": 64,
   "id": "1c6b3e5c",
   "metadata": {},
   "outputs": [
    {
     "data": {
      "text/plain": [
       "[<title>The Dormouse's story</title>]"
      ]
     },
     "execution_count": 64,
     "metadata": {},
     "output_type": "execute_result"
    }
   ],
   "source": [
    "soup.select('title')"
   ]
  },
  {
   "cell_type": "markdown",
   "id": "583dd5ae",
   "metadata": {},
   "source": [
    "通过Tag标签逐层查找"
   ]
  },
  {
   "cell_type": "code",
   "execution_count": 67,
   "id": "c4134675",
   "metadata": {},
   "outputs": [
    {
     "data": {
      "text/plain": [
       "[<a class=\"sister\" href=\"http://example.com/elsie\" id=\"link1\">Elsie</a>,\n",
       " <a class=\"sister\" href=\"http://example.com/lacie\" id=\"link2\">Lacie</a>,\n",
       " <a class=\"sister\" href=\"http://example.com/tillie\" id=\"link3\">Tillie</a>]"
      ]
     },
     "execution_count": 67,
     "metadata": {},
     "output_type": "execute_result"
    }
   ],
   "source": [
    "soup.select('body a')"
   ]
  },
  {
   "cell_type": "markdown",
   "id": "8be84ac2",
   "metadata": {},
   "source": [
    "找到某个标签下的子标签"
   ]
  },
  {
   "cell_type": "code",
   "execution_count": 68,
   "id": "9f97fbc9",
   "metadata": {},
   "outputs": [
    {
     "data": {
      "text/plain": [
       "[<title>The Dormouse's story</title>]"
      ]
     },
     "execution_count": 68,
     "metadata": {},
     "output_type": "execute_result"
    }
   ],
   "source": [
    "soup.select('head > title')"
   ]
  },
  {
   "cell_type": "code",
   "execution_count": 69,
   "id": "92b7d960",
   "metadata": {},
   "outputs": [
    {
     "data": {
      "text/plain": [
       "[<a class=\"sister\" href=\"http://example.com/elsie\" id=\"link1\">Elsie</a>,\n",
       " <a class=\"sister\" href=\"http://example.com/lacie\" id=\"link2\">Lacie</a>,\n",
       " <a class=\"sister\" href=\"http://example.com/tillie\" id=\"link3\">Tillie</a>]"
      ]
     },
     "execution_count": 69,
     "metadata": {},
     "output_type": "execute_result"
    }
   ],
   "source": [
    "soup.select('p > a')"
   ]
  },
  {
   "cell_type": "code",
   "execution_count": 70,
   "id": "0c46c91a",
   "metadata": {},
   "outputs": [
    {
     "data": {
      "text/plain": [
       "[<a class=\"sister\" href=\"http://example.com/lacie\" id=\"link2\">Lacie</a>]"
      ]
     },
     "execution_count": 70,
     "metadata": {},
     "output_type": "execute_result"
    }
   ],
   "source": [
    "soup.select('p > a:nth-of-type(2)')"
   ]
  },
  {
   "cell_type": "code",
   "execution_count": 71,
   "id": "a04a6cf2",
   "metadata": {},
   "outputs": [
    {
     "data": {
      "text/plain": [
       "[<a class=\"sister\" href=\"http://example.com/elsie\" id=\"link1\">Elsie</a>]"
      ]
     },
     "execution_count": 71,
     "metadata": {},
     "output_type": "execute_result"
    }
   ],
   "source": [
    "soup.select('p > #link1')"
   ]
  },
  {
   "cell_type": "markdown",
   "id": "1574df69",
   "metadata": {},
   "source": [
    "通过css类名进行查找"
   ]
  },
  {
   "cell_type": "code",
   "execution_count": 72,
   "id": "605db7ff",
   "metadata": {},
   "outputs": [
    {
     "data": {
      "text/plain": [
       "[<a class=\"sister\" href=\"http://example.com/elsie\" id=\"link1\">Elsie</a>,\n",
       " <a class=\"sister\" href=\"http://example.com/lacie\" id=\"link2\">Lacie</a>,\n",
       " <a class=\"sister\" href=\"http://example.com/tillie\" id=\"link3\">Tillie</a>]"
      ]
     },
     "execution_count": 72,
     "metadata": {},
     "output_type": "execute_result"
    }
   ],
   "source": [
    "soup.select('.sister')"
   ]
  },
  {
   "cell_type": "markdown",
   "id": "a5d4da9d",
   "metadata": {},
   "source": [
    "通过tag的id进行查找,在整个HTML页面中的id值是唯一的"
   ]
  },
  {
   "cell_type": "code",
   "execution_count": 74,
   "id": "72172fa1",
   "metadata": {},
   "outputs": [
    {
     "data": {
      "text/plain": [
       "[<a class=\"sister\" href=\"http://example.com/elsie\" id=\"link1\">Elsie</a>]"
      ]
     },
     "execution_count": 74,
     "metadata": {},
     "output_type": "execute_result"
    }
   ],
   "source": [
    "soup.select('#link1')"
   ]
  },
  {
   "cell_type": "code",
   "execution_count": 75,
   "id": "874adbb6",
   "metadata": {},
   "outputs": [
    {
     "data": {
      "text/plain": [
       "[<a class=\"sister\" href=\"http://example.com/lacie\" id=\"link2\">Lacie</a>]"
      ]
     },
     "execution_count": 75,
     "metadata": {},
     "output_type": "execute_result"
    }
   ],
   "source": [
    "soup.select('#link2')"
   ]
  },
  {
   "cell_type": "code",
   "execution_count": null,
   "id": "1c7c0242",
   "metadata": {},
   "outputs": [],
   "source": []
  }
 ],
 "metadata": {
  "kernelspec": {
   "display_name": "Python 3",
   "language": "python",
   "name": "python3"
  },
  "language_info": {
   "codemirror_mode": {
    "name": "ipython",
    "version": 3
   },
   "file_extension": ".py",
   "mimetype": "text/x-python",
   "name": "python",
   "nbconvert_exporter": "python",
   "pygments_lexer": "ipython3",
   "version": "3.8.8"
  }
 },
 "nbformat": 4,
 "nbformat_minor": 5
}
